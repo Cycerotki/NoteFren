{
 "cells": [
  {
   "cell_type": "code",
   "execution_count": 3,
   "metadata": {},
   "outputs": [],
   "source": [
    "!pip install -qU langchain langchain-anthropic duckduckgo-search langchain-community"
   ]
  },
  {
   "cell_type": "code",
   "execution_count": 29,
   "metadata": {},
   "outputs": [
    {
     "data": {
      "text/markdown": [
       "Related content: Here's a summary of the two pages:\n",
       "\n",
       "**Theodore Roosevelt**\n",
       "\n",
       "* Born: October 27, 1858\n",
       "* Died: January 6, 1919\n",
       "* 26th President of the United States (1901-1909)\n",
       "* Served as Vice President for 6 months under William McKinley\n",
       "* Known for his progressive policies and conservation efforts\n",
       "* Established national parks, forests, and monuments\n",
       "* Won the Nobel Peace Prize in 1906 for ending the Russo-Japanese War\n",
       "* Elected to a full term in 1904 and groomed William Howard Taft to succeed him\n",
       "\n",
       "**Theodore Roosevelt Jr.**\n",
       "\n",
       "* Born: September 13, 1887\n",
       "* Died: July 12, 1944\n",
       "* Eldest son of President Theodore Roosevelt and First Lady Edith Roosevelt\n",
       "* Educated at private academies and Harvard University\n",
       "* Served in the military during both World Wars\n",
       "* Directed troops at Utah Beach during the Normandy landings (World War II)\n",
       "* Received the Medal of Honor for his service\n",
       "* Had a successful career in business and investment banking before joining the military."
      ],
      "text/plain": [
       "<IPython.core.display.Markdown object>"
      ]
     },
     "metadata": {},
     "output_type": "display_data"
    }
   ],
   "source": [
    "from IPython.display import display, Markdown\n",
    "display(Markdown(\"Related content: Here's a summary of the two pages:\\n\\n**Theodore Roosevelt**\\n\\n* Born: October 27, 1858\\n* Died: January 6, 1919\\n* 26th President of the United States (1901-1909)\\n* Served as Vice President for 6 months under William McKinley\\n* Known for his progressive policies and conservation efforts\\n* Established national parks, forests, and monuments\\n* Won the Nobel Peace Prize in 1906 for ending the Russo-Japanese War\\n* Elected to a full term in 1904 and groomed William Howard Taft to succeed him\\n\\n**Theodore Roosevelt Jr.**\\n\\n* Born: September 13, 1887\\n* Died: July 12, 1944\\n* Eldest son of President Theodore Roosevelt and First Lady Edith Roosevelt\\n* Educated at private academies and Harvard University\\n* Served in the military during both World Wars\\n* Directed troops at Utah Beach during the Normandy landings (World War II)\\n* Received the Medal of Honor for his service\\n* Had a successful career in business and investment banking before joining the military.\"))"
   ]
  },
  {
   "cell_type": "code",
   "execution_count": null,
   "metadata": {},
   "outputs": [
    {
     "name": "stdout",
     "output_type": "stream",
     "text": [
      "content='' additional_kwargs={} response_metadata={'model': 'llama3.1', 'created_at': '2024-11-10T10:55:01.537524Z', 'message': {'role': 'assistant', 'content': '', 'tool_calls': [{'function': {'name': 'validate_user', 'arguments': {'addresses': '[\"123 Fake St, Boston, MA\", \"234 Pretend Boulevard, Houston, TX\"]', 'user_id': '123'}}}]}, 'done_reason': 'stop', 'done': True, 'total_duration': 2388418583, 'load_duration': 32690125, 'prompt_eval_count': 225, 'prompt_eval_duration': 153761000, 'eval_count': 42, 'eval_duration': 2200683000} id='run-b73225c4-eb20-4f50-9a3d-18e5d5a165f3-0' tool_calls=[{'name': 'validate_user', 'args': {'addresses': '[\"123 Fake St, Boston, MA\", \"234 Pretend Boulevard, Houston, TX\"]', 'user_id': '123'}, 'id': 'b9e96c32-bd84-44e3-8ef7-1742f575cd1e', 'type': 'tool_call'}] usage_metadata={'input_tokens': 225, 'output_tokens': 42, 'total_tokens': 267} <class 'langchain_core.messages.ai.AIMessage'>\n",
      "[{'name': 'validate_user', 'args': {'addresses': '[\"123 Fake St, Boston, MA\", \"234 Pretend Boulevard, Houston, TX\"]', 'user_id': '123'}, 'id': 'b9e96c32-bd84-44e3-8ef7-1742f575cd1e', 'type': 'tool_call'}] <class 'list'>\n"
     ]
    }
   ],
   "source": [
    "from typing import List\n",
    "\n",
    "from langchain_core.tools import tool\n",
    "from langchain_ollama import ChatOllama\n",
    "\n",
    "\n",
    "@tool\n",
    "def validate_user(user_id: int, addresses: List[str]) -> bool:\n",
    "    \"\"\"Validate user using historical addresses.\n",
    "\n",
    "    Args:\n",
    "        user_id (int): the user ID.\n",
    "        addresses (List[str]): Previous addresses as a list of strings.\n",
    "    \"\"\"\n",
    "    return True\n",
    "\n",
    "\n",
    "llm = ChatOllama(\n",
    "    model=\"llama3.1\",\n",
    "    temperature=0,\n",
    ").bind_tools([validate_user])\n",
    "\n",
    "result = llm.invoke(\n",
    "    \"Could you validate user 123? They previously lived at \"\n",
    "    \"123 Fake St in Boston MA and 234 Pretend Boulevard in \"\n",
    "    \"Houston TX.\"\n",
    ")\n",
    "res = result.tool_calls\n",
    "\n",
    "print(result, type(result))\n",
    "print(res, type(res))"
   ]
  },
  {
   "cell_type": "code",
   "execution_count": 5,
   "metadata": {},
   "outputs": [
    {
     "data": {
      "text/plain": [
       "'Updated results from the 2024 election for the US president. Reuters live coverage of the 2024 US President, Senate, House and state governors races. \"I congratulate President Trump on his election as 47th President of the United States of America, as well as Vice President-elect J.D. Vance and their families,\" Bush said in a statement. The White House, official residence of the president of the United States, in July 2008. The president of the United States is the head of state and head of government of the United States, [1] indirectly elected to a four-year term via the Electoral College. [2] The officeholder leads the executive branch of the federal government and is the commander-in-chief of the United States Armed ... Donald J. Trump, the once and now future president, capped an improbable political comeback by defeating Vice President Kamala Harris on promises to turbocharge the economy and deport undocumented ... See the latest polls, probabilities and scenarios for the 2024 presidential election between Vice President Kamala Harris and former President Donald Trump. Harris has a slight edge over Trump in the Electoral College, but both candidates have a chance of winning.'"
      ]
     },
     "execution_count": 5,
     "metadata": {},
     "output_type": "execute_result"
    }
   ],
   "source": [
    "from langchain_community.tools import DuckDuckGoSearchRun\n",
    "\n",
    "search = DuckDuckGoSearchRun()\n",
    "\n",
    "search.invoke(\"who is the next president of the United States\")"
   ]
  },
  {
   "cell_type": "code",
   "execution_count": 14,
   "metadata": {},
   "outputs": [],
   "source": [
    "@tool\n",
    "def duckduckgo_search(question: str) -> str:\n",
    "    \"\"\"\n",
    "    Ask DuckDuckGo a question.\n",
    "\n",
    "    Args:\n",
    "        question (str): The question to ask.\n",
    "\n",
    "    Returns:\n",
    "        str: a reply.\n",
    "    \"\"\"\n",
    "    return search.invoke(question)"
   ]
  },
  {
   "cell_type": "code",
   "execution_count": 7,
   "metadata": {},
   "outputs": [
    {
     "data": {
      "text/plain": [
       "'Message sent successfully!'"
      ]
     },
     "execution_count": 7,
     "metadata": {},
     "output_type": "execute_result"
    }
   ],
   "source": [
    "# Custom Tool for sending Slack messages using a webhook\n",
    "import requests\n",
    "import json\n",
    "from langchain.tools import BaseTool, StructuredTool, tool\n",
    "\n",
    "@tool\n",
    "def send_slack_message(message: str) -> str:\n",
    "    \"\"\"\n",
    "    Sends a message to a Slack app using Slack webhook.\n",
    "\n",
    "    Args:\n",
    "        message (str): The message to send.\n",
    "\n",
    "    Returns:\n",
    "        str: A success or error message.\n",
    "    \"\"\"\n",
    "    # webhook_url = \"https://YOUR_SLACK_WEBHOOK_URL\"\n",
    "    # payload = {\"text\": message}\n",
    "    # headers = {\"Content-type\": \"application/json\"}\n",
    "    return \"Message sent successfully!\"\n",
    "\n",
    "    # try:\n",
    "    #     response = requests.post(webhook_url, data=json.dumps(payload), headers=headers)\n",
    "    #     response.raise_for_status()\n",
    "    #     return \"Message sent successfully!\"\n",
    "    # except requests.exceptions.RequestException as e:\n",
    "    #     return f\"Error sending message: {e}\"\n",
    "\n",
    "message = \"Hello from Claude!\"\n",
    "send_slack_message.invoke({\"message\": message})\n",
    "# 'Message sent successfully!'"
   ]
  },
  {
   "cell_type": "code",
   "execution_count": null,
   "metadata": {},
   "outputs": [],
   "source": [
    "from dotenv import load_dotenv\n",
    "# take environment variables from .env\n",
    "load_dotenv()"
   ]
  },
  {
   "cell_type": "code",
   "execution_count": null,
   "metadata": {},
   "outputs": [],
   "source": [
    "from langchain_anthropic import ChatAnthropic\n",
    "\n",
    "# ChatAnthropic - Claude 3 Haiku\n",
    "llm = ChatAnthropic(model = \"claude-3-haiku-20240307\")"
   ]
  },
  {
   "cell_type": "code",
   "execution_count": 24,
   "metadata": {},
   "outputs": [
    {
     "name": "stdout",
     "output_type": "stream",
     "text": [
      "<class 'langchain_core.tools.structured.StructuredTool'> <class 'langchain_core.tools.structured.StructuredTool'>\n"
     ]
    }
   ],
   "source": [
    "# tools\n",
    "tools = [duckduckgo_search, send_slack_message]\n",
    "\n",
    "# llm with tools\n",
    "llm_with_tools = llm.bind_tools(tools)"
   ]
  },
  {
   "cell_type": "code",
   "execution_count": 19,
   "metadata": {},
   "outputs": [
    {
     "name": "stdout",
     "output_type": "stream",
     "text": [
      "content='' additional_kwargs={} response_metadata={'model': 'qwen2.5', 'created_at': '2024-11-16T02:50:43.712641Z', 'message': {'role': 'assistant', 'content': '', 'tool_calls': [{'function': {'name': 'duckduckgo_search', 'arguments': {'question': 'What is LangChain Tool Calling?'}}}]}, 'done_reason': 'stop', 'done': True, 'total_duration': 10658826167, 'load_duration': 572147417, 'prompt_eval_count': 262, 'prompt_eval_duration': 2633000000, 'eval_count': 126, 'eval_duration': 7234000000} id='run-537a8bb9-4fb0-454e-a180-ea5a1fab6387-0' tool_calls=[{'name': 'duckduckgo_search', 'args': {'question': 'What is LangChain Tool Calling?'}, 'id': '99bb9284-3e05-4d83-ae13-cf1fc640aea9', 'type': 'tool_call'}] usage_metadata={'input_tokens': 262, 'output_tokens': 126, 'total_tokens': 388}\n",
      "[{'name': 'send_slack_message', 'args': {'message': '👋 Happy Birthday from Claude! 😃'}, 'id': '95e8b72e-3a33-4670-b4e0-83d833c8ad4a', 'type': 'tool_call'}]\n"
     ]
    }
   ],
   "source": [
    "messages = [\n",
    "    (\"system\", \"You are a helpful assistant.\"),\n",
    "    (\"human\", \"What is LangChain Tool Calling?\")\n",
    "]\n",
    "\n",
    "print(llm_with_tools.invoke(messages))\n",
    "#[{'name': 'duckduckgo_search',\n",
    "#  'args': {'query': 'LangChain Tool Calling'},\n",
    "#  'id': 'toolu_01Bfrz1Uhu84ggZd96Ae9De8'}]\n",
    "\n",
    "messages = [\n",
    "    (\"system\", \"You are a helpful assistant.\"),\n",
    "    (\"human\", \"Send '👋 Happy Birthday from Claude! 😃' message to Slack app.\")\n",
    "]\n",
    "\n",
    "print(llm_with_tools.invoke(messages).tool_calls)\n",
    "#[{'name': 'send_slack_message',\n",
    "#  'args': {'message': '👋 Happy Birthday from Claude! 😃'},\n",
    "#  'id': 'toolu_01LKxZvHpmDrdLooo1aJWqum'}]"
   ]
  },
  {
   "cell_type": "code",
   "execution_count": 26,
   "metadata": {},
   "outputs": [
    {
     "name": "stdout",
     "output_type": "stream",
     "text": [
      "The White House, official residence of the president of the United States, in July 2008. The president of the United States is the head of state and head of government of the United States, [1] indirectly elected to a four-year term via the Electoral College. [2] The officeholder leads the executive branch of the federal government and is the commander-in-chief of the United States Armed ... Updated results from the 2024 election for the US president. Reuters live coverage of the 2024 US President, Senate, House and state governors races. ... New York president. Democrat Kamala Harris ... Joe Biden (born November 20, 1942, Scranton, Pennsylvania, U.S.) is the 46th president of the United States (2021-25) and was the 47th vice president of the United States (2009-17) in the Democratic administration of Pres. Barack Obama. He previously represented Delaware in the U.S. Senate (1973-2009). Donald Trump was elected as President of the United States on Wednesday, Nov. 6, 2024, the Fox News Decision Desk projects. CNN coverage of Joseph R. Biden, the 46th president of the United States Ad Feedback. Politics. SCOTUS ... Live Updates The latest on Trump's presidential transition\n"
     ]
    },
    {
     "data": {
      "text/plain": [
       "[('system', 'You are a helpful assistant.'),\n",
       " ('human',\n",
       "  'Find the answer to this question: Who is the latest president of the United States?'),\n",
       " AIMessage(content='', additional_kwargs={}, response_metadata={'model': 'qwen2.5', 'created_at': '2024-11-16T05:59:36.644361Z', 'message': {'role': 'assistant', 'content': '', 'tool_calls': [{'function': {'name': 'duckduckgo_search', 'arguments': {'question': 'Who is the latest president of the United States?'}}}]}, 'done_reason': 'stop', 'done': True, 'total_duration': 1865795875, 'load_duration': 27784833, 'prompt_eval_count': 272, 'prompt_eval_duration': 161000000, 'eval_count': 31, 'eval_duration': 1672000000}, id='run-99e38f82-cd9b-4954-88e3-b0d6d4c99418-0', tool_calls=[{'name': 'duckduckgo_search', 'args': {'question': 'Who is the latest president of the United States?'}, 'id': 'ce3d0a5e-469f-4f84-b9c7-9e738b7582fe', 'type': 'tool_call'}], usage_metadata={'input_tokens': 272, 'output_tokens': 31, 'total_tokens': 303}),\n",
       " ToolMessage(content=\"The White House, official residence of the president of the United States, in July 2008. The president of the United States is the head of state and head of government of the United States, [1] indirectly elected to a four-year term via the Electoral College. [2] The officeholder leads the executive branch of the federal government and is the commander-in-chief of the United States Armed ... Updated results from the 2024 election for the US president. Reuters live coverage of the 2024 US President, Senate, House and state governors races. ... New York president. Democrat Kamala Harris ... Joe Biden (born November 20, 1942, Scranton, Pennsylvania, U.S.) is the 46th president of the United States (2021-25) and was the 47th vice president of the United States (2009-17) in the Democratic administration of Pres. Barack Obama. He previously represented Delaware in the U.S. Senate (1973-2009). Donald Trump was elected as President of the United States on Wednesday, Nov. 6, 2024, the Fox News Decision Desk projects. CNN coverage of Joseph R. Biden, the 46th president of the United States Ad Feedback. Politics. SCOTUS ... Live Updates The latest on Trump's presidential transition\", tool_call_id='ce3d0a5e-469f-4f84-b9c7-9e738b7582fe')]"
      ]
     },
     "execution_count": 26,
     "metadata": {},
     "output_type": "execute_result"
    }
   ],
   "source": [
    "from langchain_core.messages import HumanMessage, ToolMessage\n",
    "\n",
    "messages = [\n",
    "    (\"system\", \"You are a helpful assistant.\"),\n",
    "    (\"human\", \"Find the answer to this question: Who is the latest president of the United States?\")\n",
    "]\n",
    "\n",
    "ai_msg = llm_with_tools.invoke(messages)\n",
    "messages.append(ai_msg)\n",
    "\n",
    "for tool_call in ai_msg.tool_calls:\n",
    "    selected_tool = {\"duckduckgo_search\": duckduckgo_search, \"send_slack_message\": send_slack_message}[tool_call[\"name\"].lower()]\n",
    "    tool_output = selected_tool.invoke(tool_call[\"args\"])\n",
    "    print(tool_output)\n",
    "    messages.append(ToolMessage(tool_output, tool_call_id=tool_call[\"id\"]))\n",
    "\n",
    "messages\n",
    "#[('system', 'You are a helpful assistant.'),\n",
    "#  ('human', \"Send '👋 Happy Birthday from Claude! 😃' message to Slack app.\"),\n",
    "#  AIMessage(content=[{'id': 'toolu_01HAV1YsmhUWK4ZRc8FJf7cL', 'input': {'message': '👋 Happy Birthday from Claude! 😃'}, 'name': 'send_slack_message', 'type': 'tool_use'}], response_metadata={'id': 'msg_01J59CnLZws1JngV9atfKwz9', 'model': 'claude-3-haiku-20240307', 'stop_reason': 'tool_use', 'stop_sequence': None, 'usage': {'input_tokens': 499, 'output_tokens': 65}}, id='run-c9eb80b8-1b94-4e96-95a9-76f9f0c45c78-0', tool_calls=[{'name': 'send_slack_message', 'args': {'message': '👋 Happy Birthday from Claude! 😃'}, 'id': 'toolu_01HAV1YsmhUWK4ZRc8FJf7cL'}]),\n",
    "#  ToolMessage(content='Message sent successfully!', tool_call_id='toolu_01HAV1YsmhUWK4ZRc8FJf7cL')]"
   ]
  },
  {
   "cell_type": "code",
   "execution_count": null,
   "metadata": {},
   "outputs": [],
   "source": [
    "from langchain.agents import AgentExecutor, create_tool_calling_agent\n",
    "from langchain_core.prompts import ChatPromptTemplate\n",
    "\n",
    "# Prompt for creating Tool Calling Agent\n",
    "prompt = ChatPromptTemplate.from_messages(\n",
    "    [\n",
    "        (\n",
    "            \"system\",\n",
    "            \"You are a helpful assistant.\",\n",
    "        ),\n",
    "        (\"placeholder\", \"{chat_history}\"),\n",
    "        (\"human\", \"{input}\"),\n",
    "        (\"placeholder\", \"{agent_scratchpad}\"),\n",
    "    ]\n",
    ")\n",
    "\n",
    "# Construct the Tool Calling Agent\n",
    "agent = create_tool_calling_agent(llm, tools, prompt)\n",
    "\n",
    "# Create an agent executor by passing in the agent and tools\n",
    "agent_executor = AgentExecutor(agent=agent, tools=tools, verbose=True)\n",
    "\n",
    "# Run Agent\n",
    "query = \"What is LangChain Tool Calling Agent? Please send it to Slack app.\"\n",
    "agent_executor.invoke({\"input\": query})"
   ]
  }
 ],
 "metadata": {
  "kernelspec": {
   "display_name": ".venv",
   "language": "python",
   "name": "python3"
  },
  "language_info": {
   "codemirror_mode": {
    "name": "ipython",
    "version": 3
   },
   "file_extension": ".py",
   "mimetype": "text/x-python",
   "name": "python",
   "nbconvert_exporter": "python",
   "pygments_lexer": "ipython3",
   "version": "3.11.4"
  }
 },
 "nbformat": 4,
 "nbformat_minor": 2
}
